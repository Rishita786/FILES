{
 "cells": [
  {
   "cell_type": "code",
   "execution_count": 1,
   "metadata": {},
   "outputs": [],
   "source": [
    "import numpy as np"
   ]
  },
  {
   "cell_type": "code",
   "execution_count": 2,
   "metadata": {},
   "outputs": [],
   "source": [
    "def printResult(Distance,Path):\n",
    "    print(\"Path :: \",end=\"\")\n",
    "    for x in Path:\n",
    "        print(\"->\",x,end=\"\")\n",
    "    print(\"\\nDistance ::\",Distance) "
   ]
  },
  {
   "cell_type": "code",
   "execution_count": 3,
   "metadata": {},
   "outputs": [],
   "source": [
    "def GreedyPath(NodeCostMatrix,Source,Dest,node):\n",
    "    Tour=[]\n",
    "    TotalDistance=[]\n",
    "    visited = [False for i in range(node)]\n",
    "    visited[Source]=True\n",
    "    Tour.append(Source)\n",
    "    for j in range(node-1):\n",
    "        minD=999\n",
    "        for i in range(node):\n",
    "            if visited[i] == False and i!=Tour[-1]: # checking for i : i is not visited and is not a source city\n",
    "                if minD>NodeCostMatrix[Tour[-1],i]: # choosing minimum distance from last visited city \n",
    "                    minD=NodeCostMatrix[Tour[-1],i]\n",
    "                    nextNode=i\n",
    "        visited[nextNode]=True\n",
    "        TotalDistance.append(minD)\n",
    "        Tour.append(nextNode)\n",
    "    #TotalDistance += NodeCostMatrix[Tour[-1],Source] #adding the distace b/w last city and source city\n",
    "    #Tour.append(Source)\n",
    "    ind=Tour.index(Dest)\n",
    "    #print(\"ind :\",ind)\n",
    "    tour=Tour[0:ind+1]\n",
    "    #print(\"tour :\",tour)\n",
    "    #print(Tour)\n",
    "    tds=sum(TotalDistance[0:ind])\n",
    "    return tds, tour"
   ]
  },
  {
   "cell_type": "code",
   "execution_count": 5,
   "metadata": {},
   "outputs": [],
   "source": [
    "CostMatrix = np.random.randint(1,10,(20,20))"
   ]
  },
  {
   "cell_type": "code",
   "execution_count": 11,
   "metadata": {},
   "outputs": [
    {
     "name": "stdout",
     "output_type": "stream",
     "text": [
      "Enter coordinates :: \n",
      "2 9\n",
      "6 10\n",
      "[[9]\n",
      " [7]\n",
      " [4]\n",
      " [5]]\n"
     ]
    }
   ],
   "source": [
    "print(\"Enter coordinates :: \")\n",
    "x,y = map(int,input().split())\n",
    "l,m = map(int,input().split())\n",
    "SubMatrix = CostMatrix[x:l,y:m]\n",
    "print(SubMatrix)"
   ]
  },
  {
   "cell_type": "code",
   "execution_count": 15,
   "metadata": {},
   "outputs": [
    {
     "name": "stdout",
     "output_type": "stream",
     "text": [
      "Matrix 1 :\n",
      " [[4 4 6 9]\n",
      " [1 5 1 7]\n",
      " [6 5 8 4]\n",
      " [9 9 3 5]]\n",
      "Matrix 2 : \n",
      " [[9 8 5 9]\n",
      " [7 4 2 2]\n",
      " [4 3 6 2]\n",
      " [5 6 6 2]]\n",
      "Path :: -> 0-> 2-> 3\n",
      "Distance :: 7\n"
     ]
    }
   ],
   "source": [
    "SubMatrix = CostMatrix[x:l,y:m]\n",
    "leng=SubMatrix.shape\n",
    "row=leng[0]\n",
    "column=leng[1]\n",
    "sou = 0\n",
    "dest = row-1\n",
    "cost1=cost2=0\n",
    "#column will expand i.e l and m (assumning l will be less then or equal to m)\n",
    "if row>column:\n",
    "    ex=row-column\n",
    "    if y-ex>=0:\n",
    "        c1=CostMatrix[x:l,y-ex:m]\n",
    "        print(\"Matrix 1 :\\n\",c1)\n",
    "        cost1,path1=GreedyPath(c1,sou,dest,c1.shape[0])\n",
    "    if m+ex!=20:\n",
    "        c2=CostMatrix[x:l,y:m+ex]\n",
    "        print(\"Matrix 2 : \\n\",c2)\n",
    "        cost2,path2=GreedyPath(c2,sou,dest,c2.shape[0])\n",
    "elif row<column:\n",
    "    ex=column-row\n",
    "    if x-ex>=0:\n",
    "        c1=CostMatrix[x-ex:l,y:m]\n",
    "        s1=0+ex\n",
    "        d1=dest+ex\n",
    "        print(\"Matrix 1 :\\n\",c1)\n",
    "        cost1,path1=GreedyPath(c1,s1,d1,c1.shape[0])\n",
    "    if l+ex!=20:\n",
    "        c2=CostMatrix[x:l+ex,y:m]\n",
    "        print(\"Matrix 2 : \\n\",c2)\n",
    "        cost2,path2=GreedyPath(c2,sou,dest,c2.shape[0])\n",
    "else:\n",
    "    cost1,path1=GreedyPath(SubMatrix,sou,dest,row)\n",
    "if cost1!=0 and cost2!=0:\n",
    "    if cost1<cost2:\n",
    "        printResult(cost1,path1)\n",
    "    else:\n",
    "        printResult(cost2,path2)\n",
    "else:\n",
    "    if cost1!=0:\n",
    "        printResult(cost1,path1)\n",
    "    elif cost2!=0:\n",
    "        printResult(cost2,path2)"
   ]
  },
  {
   "cell_type": "code",
   "execution_count": null,
   "metadata": {},
   "outputs": [],
   "source": []
  }
 ],
 "metadata": {
  "kernelspec": {
   "display_name": "Python 3",
   "language": "python",
   "name": "python3"
  },
  "language_info": {
   "codemirror_mode": {
    "name": "ipython",
    "version": 3
   },
   "file_extension": ".py",
   "mimetype": "text/x-python",
   "name": "python",
   "nbconvert_exporter": "python",
   "pygments_lexer": "ipython3",
   "version": "3.7.1"
  }
 },
 "nbformat": 4,
 "nbformat_minor": 2
}
